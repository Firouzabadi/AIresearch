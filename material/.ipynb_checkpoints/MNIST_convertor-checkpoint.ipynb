{
 "cells": [
  {
   "cell_type": "code",
   "execution_count": 2,
   "metadata": {
    "collapsed": true
   },
   "outputs": [],
   "source": [
    "import numpy as np\n",
    "import matplotlib.pylab as plt\n",
    "import scipy.misc\n",
    "%matplotlib inline\n",
    "\n",
    "import os\n",
    "import sys\n",
    "import struct\n",
    "import random\n",
    "\n",
    "def read_train(path):\n",
    "    fname_lbl = os.path.join(path, 'train-labels.idx1-ubyte')\n",
    "    with open(fname_lbl, 'rb') as flbl:\n",
    "        magic, num = struct.unpack(\">II\", flbl.read(8))\n",
    "        lbl = np.fromfile(flbl, dtype=np.int8)\n",
    "\n",
    "    fname_img = os.path.join(path, 'train-images.idx3-ubyte')\n",
    "    with open(fname_img, 'rb') as fimg:\n",
    "        magic, num, rows, cols = struct.unpack(\">IIII\", fimg.read(16))\n",
    "        img = np.fromfile(fimg, dtype=np.uint8).reshape(len(lbl), rows, cols)\n",
    "    return lbl,img\n",
    "\n",
    "def read_test(path):\n",
    "    fname_lbl = os.path.join(path, 't10k-labels.idx1-ubyte')\n",
    "    with open(fname_lbl, 'rb') as flbl:\n",
    "        magic, num = struct.unpack(\">II\", flbl.read(8))\n",
    "        lbl = np.fromfile(flbl, dtype=np.int8)\n",
    "\n",
    "    fname_img = os.path.join(path, 't10k-images.idx3-ubyte')\n",
    "    with open(fname_img, 'rb') as fimg:\n",
    "        magic, num, rows, cols = struct.unpack(\">IIII\", fimg.read(16))\n",
    "        img = np.fromfile(fimg, dtype=np.uint8).reshape(len(lbl), rows, cols)\n",
    "    return lbl,img\n",
    "\n",
    "class mnist(object):\n",
    "    def __init__(self,path,r_train=0.9):\n",
    "        labels_all, images_all = read_train(path)\n",
    "        \n",
    "        images_all = images_all[(labels_all==0) | (labels_all==1)]# | (labels_all==2)]\n",
    "        labels_all = labels_all[(labels_all==0) | (labels_all==1)]# | (labels_all==2)]\n",
    "        \n",
    "        from sklearn import preprocessing\n",
    "        lb = preprocessing.LabelBinarizer()\n",
    "        labels_all = lb.fit_transform(labels_all)\n",
    "\n",
    "        self.n_data = labels_all.shape[0]\n",
    "        inds = np.arange(self.n_data)\n",
    "        random.shuffle(inds)\n",
    "        \n",
    "        images_all = images_all.reshape(self.n_data,-1)\n",
    "        print images_all.shape\n",
    "        images_all = images_all/255.\n",
    "        \n",
    "        self.r_train = r_train\n",
    "        self.n_train = int(r_train*self.n_data)\n",
    "        self.n_test = self.n_data-self.n_train\n",
    "        \n",
    "        self.train_set = images_all[:self.n_train]\n",
    "        self.train_label = labels_all[:self.n_train]\n",
    "        \n",
    "        self.test_set = images_all[self.n_train:]\n",
    "        self.test_label = labels_all[self.n_train:]"
   ]
  },
  {
   "cell_type": "code",
   "execution_count": 4,
   "metadata": {},
   "outputs": [
    {
     "name": "stdout",
     "output_type": "stream",
     "text": [
      "(12665, 784)\n"
     ]
    }
   ],
   "source": [
    "mnist = mnist('./data/mnist')"
   ]
  },
  {
   "cell_type": "code",
   "execution_count": 10,
   "metadata": {},
   "outputs": [],
   "source": [
    "n0,n1 = 0,0\n",
    "for i in range(mnist.train_label.shape[0]):  \n",
    "    x = mnist.train_set[i].reshape(28,28)\n",
    "    y = mnist.train_label[i]\n",
    "    if y==0:\n",
    "        n0 += 1\n",
    "        scipy.misc.imsave('./MNIST_images/zero_'+str(n0)+'.png', x)\n",
    "    if y==1:\n",
    "        n1 += 1\n",
    "        scipy.misc.imsave('./MNIST_images/one_'+str(n1)+'.png', x)"
   ]
  },
  {
   "cell_type": "code",
   "execution_count": 12,
   "metadata": {},
   "outputs": [
    {
     "data": {
      "text/plain": [
       "<matplotlib.image.AxesImage at 0x7fd2eccc8810>"
      ]
     },
     "execution_count": 12,
     "metadata": {},
     "output_type": "execute_result"
    },
    {
     "data": {
      "image/png": "[encoded data removed]",
      "text/plain": [
       "<matplotlib.figure.Figure at 0x7fd2ee2a6e90>"
      ]
     },
     "metadata": {},
     "output_type": "display_data"
    }
   ],
   "source": [
    "xr = scipy.misc.imread('./MNIST_images/one_1.png')\n",
    "plt.imshow(xr,cmap='gray')"
   ]
  },
  {
   "cell_type": "code",
   "execution_count": null,
   "metadata": {
    "collapsed": true
   },
   "outputs": [],
   "source": []
  }
 ],
 "metadata": {
  "kernelspec": {
   "display_name": "Python 3",
   "language": "python",
   "name": "python3"
  },
  "language_info": {
   "codemirror_mode": {
    "name": "ipython",
    "version": 3
   },
   "file_extension": ".py",
   "mimetype": "text/x-python",
   "name": "python",
   "nbconvert_exporter": "python",
   "pygments_lexer": "ipython3",
   "version": "3.4.3"
  }
 },
 "nbformat": 4,
 "nbformat_minor": 1
}
