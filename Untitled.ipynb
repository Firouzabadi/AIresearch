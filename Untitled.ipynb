{
 "cells": [
  {
   "cell_type": "code",
   "execution_count": null,
   "metadata": {},
   "outputs": [],
   "source": [
    "from django.db import model\n",
    "\n",
    "\n",
    "# Create your models here.\n",
    "\n",
    "class image(models.Model):\n",
    "    lable_choice = (\n",
    "        (0,'even'),(1,'odd')\n",
    "    )\n",
    "    trained_lable = models.IntegeField(choices=lable_choice)\n",
    "    predicted_lable = models.CharFields(choices=lable_choice)\n",
    "    file = models.\n",
    "    \n",
    "    \n",
    "    "
   ]
  }
 ],
 "metadata": {
  "kernelspec": {
   "display_name": "Python 3",
   "language": "python",
   "name": "python3"
  },
  "language_info": {
   "codemirror_mode": {
    "name": "ipython",
    "version": 3
   },
   "file_extension": ".py",
   "mimetype": "text/x-python",
   "name": "python",
   "nbconvert_exporter": "python",
   "pygments_lexer": "ipython3",
   "version": "3.4.3"
  }
 },
 "nbformat": 4,
 "nbformat_minor": 2
}
