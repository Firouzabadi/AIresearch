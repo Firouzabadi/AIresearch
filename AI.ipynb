{
 "cells": [
  {
   "cell_type": "code",
   "execution_count": 1,
   "metadata": {
    "collapsed": false
   },
   "outputs": [],
   "source": [
    "import sys\n",
    "import random\n",
    "import numpy as np\n",
    "from scipy.misc import imread\n",
    "import tensorflow as tf\n",
    " \n",
    "num = 2000\n",
    "    \n",
    "img_list = ['zero_'+str(i)+'.png' for i in range(1,num+1)]\n",
    "lbl_list = [0 for i in range(num)]\n",
    "img_list = img_list+['one_'+str(i)+'.png' for i in range(1,num+1)]\n",
    "lbl_list = lbl_list+[1 for i in range(num)]\n",
    "\n",
    "# print img_list,lbl_list"
   ]
  },
  {
   "cell_type": "code",
   "execution_count": 2,
   "metadata": {
    "collapsed": false
   },
   "outputs": [],
   "source": [
    "def data_provider(img_list,lbl_list,n):\n",
    "    \n",
    "    images = np.zeros((n,28,28,1))\n",
    "    labels = np.zeros((n,2))\n",
    "    \n",
    "    n_files = len(img_list)\n",
    "    n = min(n,n_files)\n",
    "    \n",
    "    lst = np.arange(n_files)\n",
    "    random.shuffle(lst)\n",
    "    lst = lst[:n]\n",
    "    \n",
    "    for i in range(n):\n",
    "        images[i,:,:,0] = imread('./media/MNIST_images/'+img_list[lst[i]])\n",
    "        labels[i,lbl_list[lst[i]]] =1 \n",
    "        \n",
    "    return images,labels"
   ]
  },
  {
   "cell_type": "code",
   "execution_count": 31,
   "metadata": {
    "collapsed": false
   },
   "outputs": [],
   "source": [
    "x_in = tf.placeholder(tf.float32, shape=[None,28,28,1])\n",
    "y_ = tf.placeholder(tf.float32, shape=[None,2])\n",
    "keep_prob = tf.placeholder(tf.float32)\n",
    "\n",
    "x = tf.layers.conv2d(x_in,filters=5,kernel_size=3,strides=(1, 1),padding='same',\n",
    "            activation=tf.nn.relu)\n",
    "x = tf.layers.max_pooling2d(x,pool_size=2,strides=2)\n",
    "\n",
    "x = tf.layers.conv2d(x,filters=5,kernel_size=3,strides=(1, 1),padding='same',\n",
    "        activation=tf.nn.relu)\n",
    "x = tf.layers.max_pooling2d(x,pool_size=2,strides=2)\n",
    "\n",
    "x = tf.contrib.layers.flatten(x)\n",
    "x = tf.nn.dropout(x, keep_prob)\n",
    "\n",
    "y_conv = tf.layers.dense(x,2,activation=tf.nn.softmax)\n",
    "\n",
    "cross_entropy = tf.reduce_mean(tf.nn.softmax_cross_entropy_with_logits(labels=y_, logits=y_conv))\n",
    "train_step = tf.train.AdamOptimizer(1e-4).minimize(cross_entropy)\n",
    "correct_prediction = tf.equal(tf.argmax(y_conv, 1), tf.argmax(y_, 1))\n",
    "accuracy = tf.reduce_mean(tf.cast(correct_prediction, tf.float32))"
   ]
  },
  {
   "cell_type": "code",
   "execution_count": 35,
   "metadata": {
    "collapsed": false
   },
   "outputs": [
    {
     "name": "stdout",
     "output_type": "stream",
     "text": [
      "INFO:tensorflow:Restoring parameters from model/model\n",
      "0, 0.92\n",
      "10, 0.97\n",
      "20, 0.94\n",
      "30, 0.95\n",
      "40, 0.95\n",
      "50, 0.99\n",
      "60, 0.99\n",
      "70, 0.99\n",
      "80, 0.95\n",
      "90, 0.97\n"
     ]
    }
   ],
   "source": [
    "def train(img_list,lbl_list,restore=1,model_add='model'):\n",
    "    sess = tf.InteractiveSession()\n",
    "    saver = tf.train.Saver()\n",
    "\n",
    "    if restore:\n",
    "#         tf.reset_default_graph()\n",
    "        saver.restore(sess, model_add+'/model')\n",
    "    else:\n",
    "        init = tf.global_variables_initializer()\n",
    "        sess.run(init)\n",
    "\n",
    "    for i in range(100):\n",
    "        xp,yp = data_provider(img_list,lbl_list,100)\n",
    "        if i % 10 == 0:\n",
    "            train_accuracy = accuracy.eval(feed_dict={x_in: xp, y_: yp, keep_prob: 1.0})\n",
    "            print('{:d}, {:2.2f}'.format(i, train_accuracy))\n",
    "        train_step.run(feed_dict={x_in: xp, y_: yp, keep_prob: 0.8})\n",
    "\n",
    "    saver.save(sess, model_add+'/model')\n",
    "    \n",
    "train(img_list,lbl_list,restore=1)"
   ]
  },
  {
   "cell_type": "code",
   "execution_count": 43,
   "metadata": {
    "collapsed": false
   },
   "outputs": [],
   "source": [
    "def predict(img_path,model_add='model'):\n",
    "    images = np.zeros((1,28,28,1))\n",
    "    images[0,:,:,0] = imread(img_path)\n",
    "\n",
    "    sess = tf.InteractiveSession()\n",
    "    saver = tf.train.Saver()\n",
    "    saver.restore(sess, model_add+'/model')\n",
    "\n",
    "    y_out = sess.run(y_conv,feed_dict={x_in: images, keep_prob: 1.0})\n",
    "    return np.argmax(y_out)"
   ]
  },
  {
   "cell_type": "code",
   "execution_count": 44,
   "metadata": {
    "collapsed": false
   },
   "outputs": [
    {
     "name": "stdout",
     "output_type": "stream",
     "text": [
      "INFO:tensorflow:Restoring parameters from model/model\n"
     ]
    },
    {
     "data": {
      "text/plain": [
       "0"
      ]
     },
     "execution_count": 44,
     "metadata": {},
     "output_type": "execute_result"
    }
   ],
   "source": [
    "img_path = './media/MNIST_images/zero_15.png'\n",
    "predict(img_path,model_add='model')"
   ]
  },
  {
   "cell_type": "code",
   "execution_count": null,
   "metadata": {
    "collapsed": true
   },
   "outputs": [],
   "source": []
  }
 ],
 "metadata": {
  "anaconda-cloud": {},
  "kernelspec": {
   "display_name": "Python [default]",
   "language": "python",
   "name": "python2"
  }
 },
 "nbformat": 4,
 "nbformat_minor": 2
}
